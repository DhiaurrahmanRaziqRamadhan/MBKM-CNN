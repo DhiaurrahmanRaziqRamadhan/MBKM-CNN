{
  "nbformat": 4,
  "nbformat_minor": 0,
  "metadata": {
    "colab": {
      "provenance": [],
      "authorship_tag": "ABX9TyPac7SKO2KNQrsHagzZ/AXn",
      "include_colab_link": true
    },
    "kernelspec": {
      "name": "python3",
      "display_name": "Python 3"
    },
    "language_info": {
      "name": "python"
    }
  },
  "cells": [
    {
      "cell_type": "markdown",
      "metadata": {
        "id": "view-in-github",
        "colab_type": "text"
      },
      "source": [
        "<a href=\"https://colab.research.google.com/github/DhiaurrahmanRaziqRamadhan/MBKM-CNN/blob/main/Algoritma_CNN.ipynb\" target=\"_parent\"><img src=\"https://colab.research.google.com/assets/colab-badge.svg\" alt=\"Open In Colab\"/></a>"
      ]
    },
    {
      "cell_type": "code",
      "execution_count": null,
      "metadata": {
        "id": "EKLWTADQBTx8"
      },
      "outputs": [],
      "source": [
        "import os\n",
        "import numpy as np\n",
        "import pandas as pd\n",
        "import csv\n",
        "from google.colab import drive\n",
        "from PIL import Image"
      ]
    },
    {
      "cell_type": "code",
      "source": [
        "drive.mount('MBKM')"
      ],
      "metadata": {
        "colab": {
          "base_uri": "https://localhost:8080/"
        },
        "id": "QQlradQiBVZG",
        "outputId": "2d2b6478-120c-4b40-a997-92a79f768242"
      },
      "execution_count": null,
      "outputs": [
        {
          "output_type": "stream",
          "name": "stdout",
          "text": [
            "Drive already mounted at MBKM; to attempt to forcibly remount, call drive.mount(\"MBKM\", force_remount=True).\n"
          ]
        }
      ]
    },
    {
      "cell_type": "code",
      "source": [
        "def processing_image(img_path):\n",
        "  img = Image.open(img_path)\n",
        "\n",
        "  new_size = (32, 32)\n",
        "  resize_image = img.resize(new_size, Image.LANCZOS)\n",
        "  matriks_rgb = resize_image.convert('RGB')\n",
        "\n",
        "  # Konversi matriks RGB menjadi array numpy\n",
        "  array_rgb = np.array(resize_image)\n",
        "\n",
        "  # Cetak ukuran array_rgb\n",
        "  print(\"Ukuran array_rgb:\", array_rgb.shape)\n",
        "\n",
        "  # Mendapatkan dimensi gambar (ukuran x, ukuran y, channel)\n",
        "  ukuran_x, ukuran_y, channel = array_rgb.shape\n",
        "\n",
        "  # Membuat array kosong untuk menyimpan nilai RGB per piksel\n",
        "  nilai_rgb_per_piksel = np.zeros((ukuran_x, ukuran_y, channel), dtype=int)\n",
        "\n",
        "  # Meloop melalui setiap piksel dan mendapatkan nilai RGB-nya\n",
        "  for x in range(ukuran_x):\n",
        "      for y in range(ukuran_y):\n",
        "          for c in range(channel):\n",
        "              nilai_rgb_per_piksel[x, y, c] = array_rgb[x, y, c]\n",
        "\n",
        "  # Mendapatkan matriks Merah (Red)\n",
        "  matriks_red = nilai_rgb_per_piksel[:, :, 0]\n",
        "\n",
        "  # Mendapatkan matriks Hijau (Green)\n",
        "  matriks_green = nilai_rgb_per_piksel[:, :, 1]\n",
        "\n",
        "  # Mendapatkan matriks Biru (Blue)\n",
        "  matriks_blue = nilai_rgb_per_piksel[:, :, 2]\n",
        "\n",
        "\n",
        "  RGB_Values = '/content/MBKM/MyDrive/MBKM/AlgoritmaCNN/RGB_Values'\n",
        "  os.makedirs(RGB_Values, exist_ok=True)\n",
        "\n",
        "  red_values = pd.DataFrame(matriks_red)\n",
        "  red_values.to_csv('/content/MBKM/MyDrive/MBKM/AlgoritmaCNN/RGB_Values/red_values.csv', index=False, header=False)\n",
        "\n",
        "  green_values = pd.DataFrame(matriks_green)\n",
        "  green_values.to_csv('/content/MBKM/MyDrive/MBKM/AlgoritmaCNN/RGB_Values/green_values.csv', index=False, header=False)\n",
        "\n",
        "  blue_values = pd.DataFrame(matriks_blue)\n",
        "  blue_values.to_csv('/content/MBKM/MyDrive/MBKM/AlgoritmaCNN/RGB_Values/blue_values.csv', index=False, header=False)\n",
        "\n",
        "  # Simpan gambar yang telah diubah ukurannya\n",
        "  resized_image_path = '/content/MBKM/MyDrive/MBKM/AlgoritmaCNN/resized_image.png'\n",
        "  resize_image.save(resized_image_path)"
      ],
      "metadata": {
        "id": "wZH15xW-Cb7B"
      },
      "execution_count": null,
      "outputs": []
    },
    {
      "cell_type": "code",
      "source": [
        "train_folder = '/content/MBKM/MyDrive/MBKM/scenario2/train/1917051047'\n",
        "img_name = 'face_1917051047_20221226_Pulang Cepat_2.png'\n",
        "\n",
        "img_path = os.path.join(train_folder, img_name)\n",
        "processing_image(img_path)"
      ],
      "metadata": {
        "id": "XL9vpTQjBXr7",
        "colab": {
          "base_uri": "https://localhost:8080/"
        },
        "outputId": "40ce3c64-81e7-4780-ae6d-26e3973e4095"
      },
      "execution_count": null,
      "outputs": [
        {
          "output_type": "stream",
          "name": "stdout",
          "text": [
            "Ukuran array_rgb: (32, 32, 3)\n"
          ]
        }
      ]
    },
    {
      "cell_type": "markdown",
      "source": [
        "# Perhitungan Algoritma CNN"
      ],
      "metadata": {
        "id": "z12XR6TRcSdp"
      }
    },
    {
      "cell_type": "markdown",
      "source": [
        "## Perhitungan CNN setiap warna"
      ],
      "metadata": {
        "id": "lknuWCD-005l"
      }
    },
    {
      "cell_type": "code",
      "source": [
        "red_input = '/content/MBKM/MyDrive/MBKM/AlgoritmaCNN/RGB_Values/red_values.csv'\n",
        "green_input = '/content/MBKM/MyDrive/MBKM/AlgoritmaCNN/RGB_Values/green_values.csv'\n",
        "blue_input = '/content/MBKM/MyDrive/MBKM/AlgoritmaCNN/RGB_Values/blue_values.csv'\n",
        "\n",
        "red_output = 'red_output.csv'\n",
        "green_output = 'green_output.csv'\n",
        "blue_output = 'blue_output.csv'"
      ],
      "metadata": {
        "id": "-ke46N_DcVEo"
      },
      "execution_count": null,
      "outputs": []
    },
    {
      "cell_type": "code",
      "source": [
        "from scipy.signal import correlate2d\n",
        "\n",
        "def apply_convolution(input_file, output_file, kernel):\n",
        "  data = []\n",
        "  with open(input_file, 'r') as file:\n",
        "    read_csv = csv.reader(file)\n",
        "    for row in read_csv:\n",
        "      data.append(row)\n",
        "\n",
        "  input_matriks = np.array(data, dtype=float)\n",
        "  output_matriks = correlate2d(input_matriks, kernel, mode='valid')\n",
        "  output_matriks = np.round(output_matriks).astype(int)\n",
        "\n",
        "  return output_matriks\n",
        "\n",
        "def saving_csv(matriks, output_file):\n",
        "  with open(output_file, 'w', newline='') as file:\n",
        "    write_csv = csv.writer(file)\n",
        "    for row in matriks:\n",
        "      write_csv.writerow(row)"
      ],
      "metadata": {
        "id": "k9GmKnAJqc_6"
      },
      "execution_count": null,
      "outputs": []
    },
    {
      "cell_type": "code",
      "source": [
        "output_folder = '/content/MBKM/MyDrive/MBKM/AlgoritmaCNN/output'\n",
        "os.makedirs(output_folder, exist_ok=True)\n",
        "\n",
        "kernel = np.array([\n",
        "    [2, 1, 0, -1, -2],\n",
        "    [2, 1, 0, -1, -2],\n",
        "    [2, 1, 0, -1, -2],\n",
        "    [2, 1, 0, -1, -2],\n",
        "    [2, 1, 0, -1, -2]\n",
        "])\n",
        "\n",
        "# output matriks_red\n",
        "output_matriks_red = apply_convolution(red_input, red_output, kernel)\n",
        "output_path_red = os.path.join(output_folder, red_output)\n",
        "saving_csv(output_matriks_red, output_path_red)\n",
        "\n",
        "# output matriks_green\n",
        "output_matriks_green = apply_convolution(green_input, green_output, kernel)\n",
        "output_path_green = os.path.join(output_folder, green_output)\n",
        "saving_csv(output_matriks_green, output_path_green)\n",
        "\n",
        "# output matriks_blue\n",
        "output_matriks_blue = apply_convolution(blue_input, blue_output, kernel)\n",
        "output_path_blue = os.path.join(output_folder, blue_output)\n",
        "saving_csv(output_matriks_blue, output_path_blue)"
      ],
      "metadata": {
        "id": "H51q01DBljW9"
      },
      "execution_count": null,
      "outputs": []
    },
    {
      "cell_type": "markdown",
      "source": [
        "## Penjumlahan Matriks"
      ],
      "metadata": {
        "id": "XNniyLH-06Gs"
      }
    },
    {
      "cell_type": "code",
      "source": [
        "# Baca data dari file CSV menjadi array NumPy\n",
        "red_values = np.genfromtxt('/content/MBKM/MyDrive/MBKM/AlgoritmaCNN/output/red_output.csv', delimiter=',')\n",
        "green_values = np.genfromtxt('/content/MBKM/MyDrive/MBKM/AlgoritmaCNN/output/green_output.csv', delimiter=',')\n",
        "blue_values = np.genfromtxt('/content/MBKM/MyDrive/MBKM/AlgoritmaCNN/output/blue_output.csv', delimiter=',')\n",
        "\n",
        "sum_matrix = red_values + green_values + blue_values\n",
        "\n",
        "# Simpan hasil penjumlahan ke dalam file CSV\n",
        "np.savetxt('/content/MBKM/MyDrive/MBKM/AlgoritmaCNN/output/RGB_sum_matrix.csv', sum_matrix, delimiter=',', fmt='%d')"
      ],
      "metadata": {
        "id": "5PmVXc0x05Wz"
      },
      "execution_count": null,
      "outputs": []
    },
    {
      "cell_type": "markdown",
      "source": [
        "## Activation ReLU"
      ],
      "metadata": {
        "id": "znT1aHbV4Bjc"
      }
    },
    {
      "cell_type": "code",
      "source": [
        "# Lakukan perhitungan ReLU pada matriks hasil penjumlahan\n",
        "relu_matrix = np.maximum(sum_matrix, 0)\n",
        "\n",
        "# Simpan hasil perhitungan ReLU ke dalam file CSV\n",
        "np.savetxt('/content/MBKM/MyDrive/MBKM/AlgoritmaCNN/output/relu_matrix.csv', relu_matrix, delimiter=',', fmt='%d')"
      ],
      "metadata": {
        "id": "lsl_lkak4A4A"
      },
      "execution_count": null,
      "outputs": []
    },
    {
      "cell_type": "markdown",
      "source": [
        "## Pooling Layer"
      ],
      "metadata": {
        "id": "DSj8ubU09n60"
      }
    },
    {
      "cell_type": "code",
      "source": [
        "def apply_max_pooling(input_matrix, pool_size):\n",
        "  input_shape = input_matrix.shape\n",
        "  pooled_rows = input_shape[0] // pool_size[0]\n",
        "  pooled_cols = input_shape[1] // pool_size[1]\n",
        "\n",
        "  pooled_matrix = np.zeros((pooled_rows, pooled_cols), dtype=int)\n",
        "\n",
        "  for i in range(pooled_rows):\n",
        "      for j in range(pooled_cols):\n",
        "          start_row = i * pool_size[0]\n",
        "          start_col = j * pool_size[1]\n",
        "          pooled_value = np.max(input_matrix[start_row:start_row+pool_size[0], start_col:start_col+pool_size[1]])\n",
        "          pooled_matrix[i, j] = pooled_value\n",
        "\n",
        "  return pooled_matrix\n",
        "\n",
        "# Ukuran pooling yang akan digunakan (misalnya 4x4)\n",
        "pool_size = (4, 4)\n",
        "\n",
        "# Lakukan Max Pooling pada matriks hasil Activation ReLU\n",
        "pooled_matrix = apply_max_pooling(relu_matrix, pool_size)\n",
        "\n",
        "# Simpan hasil Max Pooling ke dalam file CSV\n",
        "np.savetxt('/content/MBKM/MyDrive/MBKM/AlgoritmaCNN/output/pooled_matrix.csv', pooled_matrix, delimiter=',', fmt='%d')"
      ],
      "metadata": {
        "id": "yDaLLxeL9nS7"
      },
      "execution_count": null,
      "outputs": []
    },
    {
      "cell_type": "markdown",
      "source": [
        "## Dropout Layer"
      ],
      "metadata": {
        "id": "qYWWi78HEAl5"
      }
    },
    {
      "cell_type": "code",
      "source": [
        "# Fungsi untuk melakukan dropout pada matriks\n",
        "def apply_dropout(input_matrix, dropout_rate):\n",
        "    mask = np.random.rand(*input_matrix.shape) < dropout_rate\n",
        "    dropout_matrix = input_matrix * mask\n",
        "    return dropout_matrix\n",
        "\n",
        "# Load pooled matrix from CSV\n",
        "pooled_output_filename = 'pooled_matrix.csv'\n",
        "pooled_output_path = os.path.join(output_folder, pooled_output_filename)\n",
        "pooled_matrix = np.genfromtxt(pooled_output_path, delimiter=',')\n",
        "\n",
        "# Dropout parameters\n",
        "dropout_rate = 0.5  # Misalnya, menggunakan dropout rate 0.5\n",
        "\n",
        "# Apply dropout\n",
        "dropout_matrix = apply_dropout(pooled_matrix, dropout_rate)\n",
        "\n",
        "# Save dropout_matrix to CSV\n",
        "dropout_output_filename = 'dropout_matrix.csv'\n",
        "dropout_output_path = os.path.join(output_folder, dropout_output_filename)\n",
        "np.savetxt(dropout_output_path, dropout_matrix, delimiter=',', fmt='%d')"
      ],
      "metadata": {
        "id": "--G0KWK8EAGk"
      },
      "execution_count": null,
      "outputs": []
    },
    {
      "cell_type": "markdown",
      "source": [
        "## Flatten Layer"
      ],
      "metadata": {
        "id": "MjepL9GdF8oq"
      }
    },
    {
      "cell_type": "code",
      "source": [
        "# Flatten function\n",
        "def flatten_matrix(input_matrix):\n",
        "    return input_matrix.flatten()\n",
        "\n",
        "# Flatten the pooled matrix\n",
        "flattened_matrix = flatten_matrix(pooled_matrix)\n",
        "\n",
        "# Save flattened_matrix to CSV\n",
        "flattened_output_filename = 'flattened_matrix.csv'\n",
        "flattened_output_path = os.path.join(output_folder, flattened_output_filename)\n",
        "np.savetxt(flattened_output_path, flattened_matrix, delimiter=',', fmt='%d')"
      ],
      "metadata": {
        "id": "Pnp3ViHeF20O"
      },
      "execution_count": null,
      "outputs": []
    },
    {
      "cell_type": "markdown",
      "source": [
        "## Fully Connected Layer"
      ],
      "metadata": {
        "id": "sw0cjW46HMnX"
      }
    },
    {
      "cell_type": "code",
      "source": [
        "def calculate_hidden_layer(layer_input, weights):\n",
        "  res = np.zeros((len(weights), 1), dtype = np.float64)\n",
        "  for i in range(len(weights)):\n",
        "    res[i] = np.sum(layer_input * weights[i])\n",
        "  return res"
      ],
      "metadata": {
        "id": "qSdKSzLGHwlW"
      },
      "execution_count": null,
      "outputs": []
    },
    {
      "cell_type": "code",
      "source": [
        "flattened_input = []\n",
        "with open(flattened_output_path, 'r') as file:\n",
        "  read_csv = csv.reader(file)\n",
        "  for row in read_csv:\n",
        "    flattened_input.append(float(row[0]))\n",
        "flattened_input = np.array(flattened_input)"
      ],
      "metadata": {
        "id": "RxYNJCSEvPVU"
      },
      "execution_count": null,
      "outputs": []
    },
    {
      "cell_type": "code",
      "source": [
        "# first hidden layer\n",
        "weight_j = np.array([\n",
        "    [0.4],\n",
        "    [0.3],\n",
        "    [0.1],\n",
        "    [0.2]\n",
        "], dtype=np.float64)\n",
        "value_j = calculate_hidden_layer(flattened_input, weight_j)\n",
        "print(\"Value J (First Hidden Layer):\")\n",
        "print(value_j)\n",
        "\n",
        "# Second hidden layer\n",
        "weight_h = np.array([\n",
        "    [0.5],\n",
        "    [0.2],\n",
        "    [0.4],\n",
        "    [0.1]\n",
        "], dtype=np.float64)\n",
        "value_h = calculate_hidden_layer(value_j, weight_h)\n",
        "print(\"Value H (Second Hidden Layer):\")\n",
        "print(value_h)\n",
        "\n",
        "# Output layer\n",
        "weight_o = np.array([\n",
        "    [0.3],\n",
        "    [0.4]\n",
        "], dtype=np.float64)\n",
        "value_o = calculate_hidden_layer(flattened_input, weight_o)\n",
        "print(\"Value O (Output Layer):\")\n",
        "print(value_o)"
      ],
      "metadata": {
        "colab": {
          "base_uri": "https://localhost:8080/"
        },
        "id": "UGTnrrnHvmvs",
        "outputId": "01acae4f-b66d-4642-9a5f-83cf6da77788"
      },
      "execution_count": null,
      "outputs": [
        {
          "output_type": "stream",
          "name": "stdout",
          "text": [
            "Value J (First Hidden Layer):\n",
            "[[35459.2]\n",
            " [26594.4]\n",
            " [ 8864.8]\n",
            " [17729.6]]\n",
            "Value H (Second Hidden Layer):\n",
            "[[44324. ]\n",
            " [17729.6]\n",
            " [35459.2]\n",
            " [ 8864.8]]\n",
            "Value O (Output Layer):\n",
            "[[26594.4]\n",
            " [35459.2]]\n"
          ]
        }
      ]
    },
    {
      "cell_type": "code",
      "source": [
        "def softmax(x):\n",
        "  exp_x = np.exp(x - np.max(x))  # Menghindari numerik instability dengan mengurangkan nilai maksimum dari setiap elemen\n",
        "  return exp_x / np.sum(exp_x)\n",
        "\n",
        "softmax_output = softmax(value_o)\n",
        "print(\"Softmax Output:\")\n",
        "print(softmax_output)"
      ],
      "metadata": {
        "colab": {
          "base_uri": "https://localhost:8080/"
        },
        "id": "8rtA4MsD1JId",
        "outputId": "61504ede-c1c1-4b51-f0d0-7b6d8283f899"
      },
      "execution_count": null,
      "outputs": [
        {
          "output_type": "stream",
          "name": "stdout",
          "text": [
            "Softmax Output:\n",
            "[[0.]\n",
            " [1.]]\n"
          ]
        }
      ]
    }
  ]
}