{
  "nbformat": 4,
  "nbformat_minor": 0,
  "metadata": {
    "colab": {
      "provenance": [],
      "authorship_tag": "ABX9TyPEFW6/WTZ+UY+J62WcZElV",
      "include_colab_link": true
    },
    "kernelspec": {
      "name": "python3",
      "display_name": "Python 3"
    },
    "language_info": {
      "name": "python"
    }
  },
  "cells": [
    {
      "cell_type": "markdown",
      "metadata": {
        "id": "view-in-github",
        "colab_type": "text"
      },
      "source": [
        "<a href=\"https://colab.research.google.com/github/DhiaurrahmanRaziqRamadhan/MBKM-CNN/blob/main/2117051048_MBKM_CNN.ipynb\" target=\"_parent\"><img src=\"https://colab.research.google.com/assets/colab-badge.svg\" alt=\"Open In Colab\"/></a>"
      ]
    },
    {
      "cell_type": "markdown",
      "source": [
        "# Library"
      ],
      "metadata": {
        "id": "Hszqhb1peuwi"
      }
    },
    {
      "cell_type": "code",
      "execution_count": null,
      "metadata": {
        "id": "u8iDTSicao4-"
      },
      "outputs": [],
      "source": [
        "import cv2\n",
        "import os\n",
        "from google.colab import drive"
      ]
    },
    {
      "cell_type": "code",
      "source": [
        "drive.mount('MBKM')"
      ],
      "metadata": {
        "colab": {
          "base_uri": "https://localhost:8080/"
        },
        "id": "aVnBENaEoiZq",
        "outputId": "c5097b46-10ad-4ef6-afe1-6e8d64afe820"
      },
      "execution_count": null,
      "outputs": [
        {
          "output_type": "stream",
          "name": "stdout",
          "text": [
            "Drive already mounted at MBKM; to attempt to forcibly remount, call drive.mount(\"MBKM\", force_remount=True).\n"
          ]
        }
      ]
    },
    {
      "cell_type": "markdown",
      "source": [
        "### Path ke folder gambar yang telah diunduh"
      ],
      "metadata": {
        "id": "lspbKh6bfHL9"
      }
    },
    {
      "cell_type": "code",
      "source": [
        "raw_data = 'raw_data'\n",
        "dataset = 'dataset'\n",
        "\n",
        "raw_data_path = os.path.join('/content/MBKM/MyDrive/MBKM',raw_data)"
      ],
      "metadata": {
        "id": "8Ib_N8yqfL3d"
      },
      "execution_count": null,
      "outputs": []
    },
    {
      "cell_type": "markdown",
      "source": [
        "### Fungsi untuk mendeteksi wajah dalam gambar"
      ],
      "metadata": {
        "id": "oxHrmweDe2EW"
      }
    },
    {
      "cell_type": "code",
      "source": [
        "def detect_faces(image, path):\n",
        "  gray = cv2.cvtColor(image, cv2.COLOR_BGR2GRAY)\n",
        "  face_cascade = cv2.CascadeClassifier(cv2.data.haarcascades + 'haarcascade_frontalface_default.xml')\n",
        "  faces = face_cascade.detectMultiScale(gray, scaleFactor=1.05, minNeighbors=5, minSize=(30, 30))\n",
        "\n",
        "  if(len(faces) > 0):\n",
        "    x,y,w,h = faces[0]\n",
        "    cv2.rectangle(image,(x,y),(x+w, y+h),(255,0,0),2)\n",
        "    crop_image = image[y:y+h, x:x+w]\n",
        "\n",
        "    if crop_image.size > 0:\n",
        "      cv2.imwrite(path,crop_image)\n",
        "      return True\n",
        "    else:\n",
        "      print('Error: Area wajah tidak terdeksi' + path)\n",
        "      return False\n",
        "  else:\n",
        "    print('Error: Tidak ada wajah yang terdeteksi' + path)\n",
        "    return False"
      ],
      "metadata": {
        "id": "-w76d7vSe6nO"
      },
      "execution_count": null,
      "outputs": []
    },
    {
      "cell_type": "markdown",
      "source": [
        "### Menggunakan OpenCV untuk membaca dan mendeteksi wajah pada gambar-gambar di folder"
      ],
      "metadata": {
        "id": "f5WLyTHNfXCU"
      }
    },
    {
      "cell_type": "code",
      "source": [
        "fail = 0\n",
        "for fileName in os.listdir(raw_data_path):\n",
        "  npm = fileName.split('_')\n",
        "  image_path = os.path.join(raw_data_path, fileName)\n",
        "\n",
        "  if npm[0] != '':\n",
        "    npm_path = os.path.join('/content/MBKM/MyDrive/MBKM', dataset, npm[0])\n",
        "    if(not os.path.exists(npm_path)):\n",
        "      os.makedirs(npm_path)\n",
        "\n",
        "    npm_path = os.path.join(npm_path, 'face_' + fileName)\n",
        "\n",
        "    image = cv2.imread(image_path)\n",
        "    result = detect_faces(image, npm_path)\n",
        "\n",
        "    if not result:\n",
        "      fail = fail + 1\n",
        "\n",
        "print('foto tidak terdeteksi: ', fail)"
      ],
      "metadata": {
        "id": "6PRhHOxYff6M",
        "colab": {
          "base_uri": "https://localhost:8080/"
        },
        "outputId": "92d0faef-caa9-465b-9ef5-0f6a5bb2383e"
      },
      "execution_count": null,
      "outputs": [
        {
          "output_type": "stream",
          "name": "stdout",
          "text": [
            "Error: Tidak ada wajah yang terdeteksi/content/MBKM/MyDrive/MBKM/dataset/1917051029/face_1917051029_20221228_Masuk_88.png\n",
            "Error: Tidak ada wajah yang terdeteksi/content/MBKM/MyDrive/MBKM/dataset/2007051002/face_2007051002_20221226_Pulang Cepat_65.png\n",
            "Error: Tidak ada wajah yang terdeteksi/content/MBKM/MyDrive/MBKM/dataset/2007051002/face_2007051002_20221226_Pulang Cepat_45.png\n",
            "Error: Tidak ada wajah yang terdeteksi/content/MBKM/MyDrive/MBKM/dataset/2007051044/face_2007051044_20221226_Pulang Cepat_7.png\n",
            "Error: Tidak ada wajah yang terdeteksi/content/MBKM/MyDrive/MBKM/dataset/2007051044/face_2007051044_20221229_Masuk_35.png\n",
            "Error: Tidak ada wajah yang terdeteksi/content/MBKM/MyDrive/MBKM/dataset/2017051010/face_2017051010_20221228_Masuk_33.png\n",
            "Error: Tidak ada wajah yang terdeteksi/content/MBKM/MyDrive/MBKM/dataset/2017051010/face_2017051010_20221226_Datang Terlambat_21.png\n",
            "Error: Tidak ada wajah yang terdeteksi/content/MBKM/MyDrive/MBKM/dataset/2017051013/face_2017051013_20221226_Pulang_70.png\n",
            "Error: Tidak ada wajah yang terdeteksi/content/MBKM/MyDrive/MBKM/dataset/2017051013/face_2017051013_20221226_Pulang_58.png\n",
            "Error: Tidak ada wajah yang terdeteksi/content/MBKM/MyDrive/MBKM/dataset/2017051013/face_2017051013_20221226_Datang Terlambat_15.png\n",
            "Error: Tidak ada wajah yang terdeteksi/content/MBKM/MyDrive/MBKM/dataset/2017051013/face_2017051013_20221226_Datang Terlambat_53.png\n",
            "Error: Tidak ada wajah yang terdeteksi/content/MBKM/MyDrive/MBKM/dataset/2017051011/face_2017051011_20221229_Masuk_29.png\n",
            "Error: Tidak ada wajah yang terdeteksi/content/MBKM/MyDrive/MBKM/dataset/2017051011/face_2017051011_20221227_Pulang_47.png\n",
            "Error: Tidak ada wajah yang terdeteksi/content/MBKM/MyDrive/MBKM/dataset/2017051019/face_2017051019_20221226_Pulang_14.png\n",
            "Error: Tidak ada wajah yang terdeteksi/content/MBKM/MyDrive/MBKM/dataset/2017051013/face_2017051013_20221228_Masuk_71.png\n",
            "Error: Tidak ada wajah yang terdeteksi/content/MBKM/MyDrive/MBKM/dataset/2017051026/face_2017051026_20221226_Pulang_42.png\n",
            "Error: Tidak ada wajah yang terdeteksi/content/MBKM/MyDrive/MBKM/dataset/2017051026/face_2017051026_20221226_Pulang_10.png\n",
            "Error: Tidak ada wajah yang terdeteksi/content/MBKM/MyDrive/MBKM/dataset/2017051028/face_2017051028_20221227_Pulang_96.png\n",
            "Error: Tidak ada wajah yang terdeteksi/content/MBKM/MyDrive/MBKM/dataset/2017051040/face_2017051040_20221226_Datang Terlambat_98.png\n",
            "Error: Tidak ada wajah yang terdeteksi/content/MBKM/MyDrive/MBKM/dataset/2017051033/face_2017051033_20221226_Pulang Cepat_56.png\n",
            "Error: Tidak ada wajah yang terdeteksi/content/MBKM/MyDrive/MBKM/dataset/2017051035/face_2017051035_20221226_Datang Terlambat_28.png\n",
            "Error: Tidak ada wajah yang terdeteksi/content/MBKM/MyDrive/MBKM/dataset/2017051035/face_2017051035_20221226_Pulang Cepat_69.png\n",
            "Error: Tidak ada wajah yang terdeteksi/content/MBKM/MyDrive/MBKM/dataset/2017051035/face_2017051035_20221226_Datang Terlambat_19.png\n",
            "Error: Tidak ada wajah yang terdeteksi/content/MBKM/MyDrive/MBKM/dataset/2017051040/face_2017051040_20221228_Masuk_83.png\n",
            "Error: Tidak ada wajah yang terdeteksi/content/MBKM/MyDrive/MBKM/dataset/2017051040/face_2017051040_20221227_Masuk_59.png\n",
            "Error: Tidak ada wajah yang terdeteksi/content/MBKM/MyDrive/MBKM/dataset/2017051044/face_2017051044_20221226_Datang Terlambat_26.png\n",
            "Error: Tidak ada wajah yang terdeteksi/content/MBKM/MyDrive/MBKM/dataset/2017051044/face_2017051044_20221226_Datang Terlambat_18.png\n",
            "Error: Tidak ada wajah yang terdeteksi/content/MBKM/MyDrive/MBKM/dataset/2017051044/face_2017051044_20221226_Datang Terlambat_11.png\n",
            "Error: Tidak ada wajah yang terdeteksi/content/MBKM/MyDrive/MBKM/dataset/2017051043/face_2017051043_20221227_Datang Terlambat_35.png\n",
            "Error: Tidak ada wajah yang terdeteksi/content/MBKM/MyDrive/MBKM/dataset/2017051044/face_2017051044_20221230_Pulang_91.png\n",
            "Error: Tidak ada wajah yang terdeteksi/content/MBKM/MyDrive/MBKM/dataset/2017051044/face_2017051044_20221226_Pulang Cepat_47.png\n",
            "Error: Tidak ada wajah yang terdeteksi/content/MBKM/MyDrive/MBKM/dataset/2017051044/face_2017051044_20221226_Pulang_4.png\n",
            "Error: Tidak ada wajah yang terdeteksi/content/MBKM/MyDrive/MBKM/dataset/2017051044/face_2017051044_20221226_Masuk_89.png\n",
            "Error: Tidak ada wajah yang terdeteksi/content/MBKM/MyDrive/MBKM/dataset/2017051044/face_2017051044_20221226_Datang Terlambat_81.png\n",
            "Error: Tidak ada wajah yang terdeteksi/content/MBKM/MyDrive/MBKM/dataset/2017051044/face_2017051044_20221226_Pulang_11.png\n",
            "Error: Tidak ada wajah yang terdeteksi/content/MBKM/MyDrive/MBKM/dataset/2017051044/face_2017051044_20221226_Datang Terlambat_58.png\n",
            "Error: Tidak ada wajah yang terdeteksi/content/MBKM/MyDrive/MBKM/dataset/2017051044/face_2017051044_20221226_Datang Terlambat_76.png\n",
            "Error: Tidak ada wajah yang terdeteksi/content/MBKM/MyDrive/MBKM/dataset/2017051044/face_2017051044_20221226_Datang Terlambat_60.png\n",
            "Error: Tidak ada wajah yang terdeteksi/content/MBKM/MyDrive/MBKM/dataset/2017051044/face_2017051044_20221226_Datang Terlambat_57.png\n",
            "Error: Tidak ada wajah yang terdeteksi/content/MBKM/MyDrive/MBKM/dataset/2017051051/face_2017051051_20221230_Masuk_67.png\n",
            "Error: Tidak ada wajah yang terdeteksi/content/MBKM/MyDrive/MBKM/dataset/2017051051/face_2017051051_20221226_Pulang_28.png\n",
            "Error: Tidak ada wajah yang terdeteksi/content/MBKM/MyDrive/MBKM/dataset/2017051044/face_2017051044_20221226_Datang Terlambat_50.png\n",
            "Error: Tidak ada wajah yang terdeteksi/content/MBKM/MyDrive/MBKM/dataset/2017051044/face_2017051044_20221226_Datang Terlambat_22.png\n",
            "Error: Tidak ada wajah yang terdeteksi/content/MBKM/MyDrive/MBKM/dataset/2017051044/face_2017051044_20221226_Datang Terlambat_54.png\n",
            "Error: Tidak ada wajah yang terdeteksi/content/MBKM/MyDrive/MBKM/dataset/2017051059/face_2017051059_20221229_Masuk_99.png\n",
            "Error: Tidak ada wajah yang terdeteksi/content/MBKM/MyDrive/MBKM/dataset/2017051068/face_2017051068_20221227_Masuk_59.png\n",
            "Error: Tidak ada wajah yang terdeteksi/content/MBKM/MyDrive/MBKM/dataset/2017051067/face_2017051067_20221230_Pulang Cepat_22.png\n",
            "Error: Tidak ada wajah yang terdeteksi/content/MBKM/MyDrive/MBKM/dataset/2017051067/face_2017051067_20221229_Pulang Cepat_21.png\n",
            "Error: Tidak ada wajah yang terdeteksi/content/MBKM/MyDrive/MBKM/dataset/2017051067/face_2017051067_20221227_Datang Terlambat_53.png\n",
            "Error: Tidak ada wajah yang terdeteksi/content/MBKM/MyDrive/MBKM/dataset/2017051053/face_2017051053_20221230_Pulang_81.png\n",
            "foto tidak terdeteksi:  50\n"
          ]
        }
      ]
    }
  ]
}